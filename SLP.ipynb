{
  "nbformat": 4,
  "nbformat_minor": 0,
  "metadata": {
    "colab": {
      "provenance": []
    },
    "kernelspec": {
      "name": "python3",
      "display_name": "Python 3"
    },
    "language_info": {
      "name": "python"
    }
  },
  "cells": [
    {
      "cell_type": "code",
      "execution_count": 1,
      "metadata": {
        "id": "PzePnf3CaMvM"
      },
      "outputs": [],
      "source": [
        "import numpy as np"
      ]
    },
    {
      "cell_type": "code",
      "source": [
        "# Define OR gate inputs and outputs\n",
        "X = np.array([[0, 0], [0, 1], [1, 0], [1, 1]])  # Inputs\n",
        "y = np.array([0, 1, 1, 1])  # Expected outputs"
      ],
      "metadata": {
        "id": "IVwUnMuBaNbK"
      },
      "execution_count": 2,
      "outputs": []
    },
    {
      "cell_type": "code",
      "source": [
        "\n",
        "# Initialize weights and bias\n",
        "weights = np.random.rand(2)\n",
        "bias = np.random.rand(1)\n",
        "learning_rate = 0.1\n",
        "epochs = 10\n"
      ],
      "metadata": {
        "id": "uL0EVM_Wacxx"
      },
      "execution_count": 3,
      "outputs": []
    },
    {
      "cell_type": "code",
      "source": [
        "# Activation function (Step function)\n",
        "def activation_function(x):\n",
        "    return 1 if x >= 0 else 0\n"
      ],
      "metadata": {
        "id": "l9AKAqUgagW6"
      },
      "execution_count": 4,
      "outputs": []
    },
    {
      "cell_type": "code",
      "source": [
        "\n",
        "# Training the perceptron\n",
        "for epoch in range(epochs):\n",
        "    for i in range(len(X)):\n",
        "        linear_output = np.dot(X[i], weights) + bias\n",
        "        y_pred = activation_function(linear_output)"
      ],
      "metadata": {
        "id": "YThMZk6kajr-"
      },
      "execution_count": 5,
      "outputs": []
    },
    {
      "cell_type": "code",
      "source": [
        "# Update weights and bias\n",
        "error = y[i] - y_pred\n",
        "weights += learning_rate * error * X[i]\n",
        "bias += learning_rate * error"
      ],
      "metadata": {
        "id": "1NsixAt6am_o"
      },
      "execution_count": 8,
      "outputs": []
    },
    {
      "cell_type": "code",
      "source": [
        "\n",
        "# Testing the trained perceptron\n",
        "print(\"Trained Weights:\", weights)\n",
        "print(\"Trained Bias:\", bias)\n",
        "print(\"Testing OR Gate:\")"
      ],
      "metadata": {
        "colab": {
          "base_uri": "https://localhost:8080/"
        },
        "id": "2k2bUcUcapgW",
        "outputId": "8b3380e4-6d16-4532-b884-95824f9316e0"
      },
      "execution_count": 9,
      "outputs": [
        {
          "output_type": "stream",
          "name": "stdout",
          "text": [
            "Trained Weights: [0.27152232 0.47234289]\n",
            "Trained Bias: [0.02262544]\n",
            "Testing OR Gate:\n"
          ]
        }
      ]
    },
    {
      "cell_type": "code",
      "source": [
        "for i in range(len(X)):\n",
        "    output = activation_function(np.dot(X[i], weights) + bias)\n",
        "    print(f\"Input: {X[i]}, Predicted Output: {output}\")"
      ],
      "metadata": {
        "colab": {
          "base_uri": "https://localhost:8080/"
        },
        "id": "uF9dE31Ha8mc",
        "outputId": "3e1aa4c2-cc4d-4975-a018-b6b0e98228df"
      },
      "execution_count": 10,
      "outputs": [
        {
          "output_type": "stream",
          "name": "stdout",
          "text": [
            "Input: [0 0], Predicted Output: 1\n",
            "Input: [0 1], Predicted Output: 1\n",
            "Input: [1 0], Predicted Output: 1\n",
            "Input: [1 1], Predicted Output: 1\n"
          ]
        }
      ]
    },
    {
      "cell_type": "code",
      "source": [],
      "metadata": {
        "id": "iZ7hp2Sta_qx"
      },
      "execution_count": null,
      "outputs": []
    }
  ]
}